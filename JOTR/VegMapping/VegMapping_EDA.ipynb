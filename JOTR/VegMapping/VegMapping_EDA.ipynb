{
 "cells": [
  {
   "cell_type": "code",
   "execution_count": null,
   "metadata": {},
   "outputs": [
    {
     "ename": "",
     "evalue": "",
     "output_type": "error",
     "traceback": [
      "\u001b[1;31mFailed to start the Kernel 'Python 3.12.0'. \n",
      "\u001b[1;31mView Jupyter <a href='command:jupyter.viewOutput'>log</a> for further details. Cannot find module './351.node.js'\n",
      "\u001b[1;31mRequire stack:\n",
      "\u001b[1;31m- /home/gitpod/.vscode-server/extensions/ms-toolsai.jupyter-2023.8.1002501831-linux-x64/out/extension.node.js\n",
      "\u001b[1;31m- /home/gitpod/.vscode-server/bin/abd2f3db4bdb28f9e95536dfa84d8479f1eb312d/out/vs/loader.js\n",
      "\u001b[1;31m- /home/gitpod/.vscode-server/bin/abd2f3db4bdb28f9e95536dfa84d8479f1eb312d/out/bootstrap-amd.js\n",
      "\u001b[1;31m- /home/gitpod/.vscode-server/bin/abd2f3db4bdb28f9e95536dfa84d8479f1eb312d/out/bootstrap-fork.js"
     ]
    }
   ],
   "source": [
    "import geopandas as gpd\n",
    "import fiona\n",
    "import matplotlib.pyplot as plt\n",
    "from matplotlib.colors import ListedColormap"
   ]
  },
  {
   "cell_type": "code",
   "execution_count": null,
   "metadata": {},
   "outputs": [],
   "source": [
    "plt.rcParams[\"figure.figsize\"] = (16, 12)"
   ]
  },
  {
   "cell_type": "markdown",
   "metadata": {},
   "source": [
    "The data represented hereare the reuslt of a ~ 16-year effort to generate a vegetation map of Joshua Tree NP (https://irma.nps.gov/DataStore/Reference/Profile/2233319):\n",
    "\n",
    "```\n",
    "Inc. (AIS) out of Redlands, CA. The mapping effort began in 1996 and by 2004 they had produced a vegetation map (referred to as the 2005 version of the map), along with two reports (see Appendix F and G) titled, Photo-Interpretation Report, USGS-NPS Vegetation and Inventory and Mapping Program, Joshua Tree National Park and USGS-NPS Vegetation Mapping Program, Joshua Tree National Park Mapping Classification. AIS was hired again in 2009-2010 to assist in updating the map; they hosted the meeting in August 2009, then proceeded to make changes to the map as discussed at the meeting. For the most part, this involved revisiting aerial photos and reevaluating the map class assigned to each problematic polygon, as well as correcting any global recodes and minor edits to the nomenclature. Aerial imagery used for the project was from 1998, including the revisits in 2009, and the minimum mapping unit was defined as 0.50 hectares. For more detail on methods used by AIS to produce the map and a summary of the project pre-2005, refer to the reports mentioned above.\n",
    "```\n",
    "\n",
    "Due to the differing survey methodologies (ground surveys vs aerial photographs), there were discrepancies between land classifications outline here in the 'Accuracy Assessment Contigency Table' (https://irma.nps.gov/DataStore/Reference/Profile/2215775)"
   ]
  },
  {
   "cell_type": "markdown",
   "metadata": {},
   "source": [
    "A report was created outlining the creation of this vegation map, as well (https://irma.nps.gov/DataStore/Reference/Profile/2215775)"
   ]
  },
  {
   "cell_type": "markdown",
   "metadata": {},
   "source": [
    "![](jotrgeodata/JOTR%20GDB%20Diagram.jpg)"
   ]
  },
  {
   "cell_type": "code",
   "execution_count": null,
   "metadata": {},
   "outputs": [],
   "source": [
    "fiona.listlayers(\"jotrgeodata/jotrgeodata.gdb\")"
   ]
  },
  {
   "cell_type": "markdown",
   "metadata": {},
   "source": [
    "For viz purposes, we will grab the park boundary:\n"
   ]
  },
  {
   "cell_type": "code",
   "execution_count": null,
   "metadata": {},
   "outputs": [],
   "source": [
    "park_boundary = gpd.read_file(\"jotrgeodata/jotrgeodata.gdb\", layer=\"JOTR_Park_Boundary\")"
   ]
  },
  {
   "cell_type": "markdown",
   "metadata": {},
   "source": [
    "For our initial purposes, we are interested primarily in the Veg polygon, we we will grab `JOTR_VegPolys`:"
   ]
  },
  {
   "cell_type": "code",
   "execution_count": null,
   "metadata": {},
   "outputs": [],
   "source": [
    "veg_poly = gpd.read_file(\"jotrgeodata/jotrgeodata.gdb\", layer=\"JOTR_VegPolys\")"
   ]
  },
  {
   "cell_type": "code",
   "execution_count": null,
   "metadata": {},
   "outputs": [],
   "source": [
    "veg_poly.head()"
   ]
  },
  {
   "cell_type": "code",
   "execution_count": null,
   "metadata": {},
   "outputs": [],
   "source": [
    "veg_poly.MapUnit_Name.unique()"
   ]
  },
  {
   "cell_type": "code",
   "execution_count": null,
   "metadata": {},
   "outputs": [],
   "source": [
    "[\n",
    "    map_unit_name\n",
    "    for map_unit_name in veg_poly.MapUnit_Name.unique()\n",
    "    if \"Joshua Tree\" in map_unit_name\n",
    "]"
   ]
  },
  {
   "cell_type": "markdown",
   "metadata": {},
   "source": [
    "After doing some digging within the NPS documentation on stand metrics (https://irma.nps.gov/DataStore/DownloadFile/467293), we have identified a couple of `MapUnit_ID`s that appear to contain all three focal species, pinyon pine, california juniper, and joshua trees: "
   ]
  },
  {
   "cell_type": "code",
   "execution_count": null,
   "metadata": {},
   "outputs": [],
   "source": [
    "veg_poly.loc[veg_poly.Ma]"
   ]
  },
  {
   "cell_type": "markdown",
   "metadata": {},
   "source": [
    "Let's engineer a feature for any MapUnit_Name that contains any Joshua Trees:"
   ]
  },
  {
   "cell_type": "code",
   "execution_count": null,
   "metadata": {},
   "outputs": [],
   "source": [
    "veg_poly.loc[:, \"contains_Joshua_Tree\"] = [\n",
    "    True if \"Joshua Tree\" in map_unit_name else False\n",
    "    for map_unit_name in veg_poly.MapUnit_Name\n",
    "]"
   ]
  },
  {
   "cell_type": "code",
   "execution_count": null,
   "metadata": {},
   "outputs": [],
   "source": [
    "veg_poly.plot(column=\"contains_Joshua_Tree\", legend=True)\n",
    "park_boundary.plot(color=\"none\", edgecolor=\"black\", linewidth=2, ax=plt.gca())\n",
    "plt.show()"
   ]
  },
  {
   "cell_type": "code",
   "execution_count": null,
   "metadata": {},
   "outputs": [],
   "source": [
    "veg_poly.plot(column=\"contains_Joshua_Tree\", legend=True)\n",
    "park_boundary.plot(color=\"none\", edgecolor=\"black\", linewidth=2, ax=plt.gca())\n",
    "plt.ylim(3.76e6, 3.77e6)\n",
    "plt.xlim(580000, 590000)\n",
    "plt.show()"
   ]
  },
  {
   "cell_type": "markdown",
   "metadata": {},
   "source": [
    "For viz purposes, we'll engineer a coarser feature of association type - shrubland, woodland, herbaceous, dune/sand."
   ]
  },
  {
   "cell_type": "code",
   "execution_count": null,
   "metadata": {},
   "outputs": [],
   "source": [
    "def derive_assoc_type(map_unit_name):\n",
    "    if \"Woodland\" in map_unit_name or \"Forest\" in map_unit_name:\n",
    "        return \"Woodland\"\n",
    "    elif \"Shrubland\" in map_unit_name:\n",
    "        return \"Shrubland\"\n",
    "    elif \"Herbaceous\" in map_unit_name:\n",
    "        return \"Herbaceous\"\n",
    "    elif map_unit_name in [\n",
    "        \"Rock Outcrops\",\n",
    "        \"Dunes\",\n",
    "        \"Non-vegetated Habitat (less than 2% absolute cover)\",\n",
    "        \"Desert Twinbugs - Desert Sand Verbena Sparsely Vegetated Alliance (Desert Dunes and Sand Flats)\",\n",
    "        \"Disturbed / Built-up\",\n",
    "    ]:\n",
    "        return \"Non-vegetated\"\n",
    "    elif map_unit_name in [\"Playa\", \"Water\"]:\n",
    "        return \"Water\"\n",
    "    else:\n",
    "        return \"Other\""
   ]
  },
  {
   "cell_type": "code",
   "execution_count": null,
   "metadata": {},
   "outputs": [],
   "source": [
    "veg_poly.loc[:, \"association_type\"] = veg_poly.MapUnit_Name.apply(derive_assoc_type)"
   ]
  },
  {
   "cell_type": "code",
   "execution_count": null,
   "metadata": {},
   "outputs": [],
   "source": [
    "cmap = ListedColormap(\n",
    "    [\"#F13FC4\", \"#A8A29C\", \"#B9DD97\", \"#28C4D5\", \"#A85B1F\"], \"indexed\"\n",
    ")"
   ]
  },
  {
   "cell_type": "code",
   "execution_count": null,
   "metadata": {},
   "outputs": [],
   "source": [
    "veg_poly.plot(column=\"association_type\", legend=True, cmap=cmap)\n",
    "park_boundary.plot(color=\"none\", edgecolor=\"black\", linewidth=2, ax=plt.gca())\n",
    "plt.show()"
   ]
  },
  {
   "cell_type": "markdown",
   "metadata": {},
   "source": [
    "What is left over in 'other' - should be nothing?"
   ]
  },
  {
   "cell_type": "code",
   "execution_count": null,
   "metadata": {},
   "outputs": [],
   "source": [
    "veg_poly[veg_poly.association_type == \"Other\"].MapUnit_Name.unique()"
   ]
  },
  {
   "cell_type": "markdown",
   "metadata": {},
   "source": [
    "For Brookie / GEE mapping - a hex key associated with the list of map unit IDs that should be associated with that color:"
   ]
  },
  {
   "cell_type": "markdown",
   "metadata": {},
   "source": [
    "#F13FC4 - `Herbaceous`"
   ]
  },
  {
   "cell_type": "code",
   "execution_count": null,
   "metadata": {},
   "outputs": [],
   "source": [
    "veg_poly[veg_poly.association_type == \"Herbaceous\"].Poly_ID.to_list()"
   ]
  },
  {
   "cell_type": "markdown",
   "metadata": {},
   "source": [
    "#A8A29C - `Non-vegetated`"
   ]
  },
  {
   "cell_type": "code",
   "execution_count": null,
   "metadata": {},
   "outputs": [],
   "source": [
    "veg_poly[veg_poly.association_type == \"Non-vegetated\"].Poly_ID.to_list()"
   ]
  },
  {
   "cell_type": "markdown",
   "metadata": {},
   "source": [
    "#B9DD97 - `Shrubland`"
   ]
  },
  {
   "cell_type": "code",
   "execution_count": null,
   "metadata": {},
   "outputs": [],
   "source": [
    "veg_poly[veg_poly.association_type == \"Shrubland\"].Poly_ID.to_list()"
   ]
  },
  {
   "cell_type": "markdown",
   "metadata": {},
   "source": [
    "#28C4D5 - `Water`"
   ]
  },
  {
   "cell_type": "code",
   "execution_count": null,
   "metadata": {},
   "outputs": [],
   "source": [
    "veg_poly[veg_poly.association_type == \"Water\"].Poly_ID.to_list()"
   ]
  },
  {
   "cell_type": "markdown",
   "metadata": {},
   "source": [
    "#A85B1F - `Woodland`"
   ]
  },
  {
   "cell_type": "code",
   "execution_count": null,
   "metadata": {},
   "outputs": [],
   "source": [
    "veg_poly[veg_poly.association_type == \"Woodland\"].Poly_ID.to_list()"
   ]
  },
  {
   "cell_type": "markdown",
   "metadata": {},
   "source": [
    "(Hello from gitpod env)"
   ]
  }
 ],
 "metadata": {
  "kernelspec": {
   "display_name": "dse-nps",
   "language": "python",
   "name": "python3"
  },
  "language_info": {
   "codemirror_mode": {
    "name": "ipython",
    "version": 3
   },
   "file_extension": ".py",
   "mimetype": "text/x-python",
   "name": "python",
   "nbconvert_exporter": "python",
   "pygments_lexer": "ipython3",
   "version": "3.12.0"
  },
  "orig_nbformat": 4
 },
 "nbformat": 4,
 "nbformat_minor": 2
}
